{
 "cells": [
  {
   "cell_type": "markdown",
   "id": "a1217670",
   "metadata": {},
   "source": [
    "# Treinamento de KNN para Classificação de Imóveis"
   ]
  },
  {
   "cell_type": "code",
   "execution_count": 9,
   "id": "43b78c70",
   "metadata": {},
   "outputs": [
    {
     "name": "stdout",
     "output_type": "stream",
     "text": [
      "Defaulting to user installation because normal site-packages is not writeable\n",
      "Requirement already satisfied: pandas in c:\\users\\danie\\appdata\\local\\packages\\pythonsoftwarefoundation.python.3.12_qbz5n2kfra8p0\\localcache\\local-packages\\python312\\site-packages (2.3.0)\n",
      "Requirement already satisfied: scikit-learn in c:\\users\\danie\\appdata\\local\\packages\\pythonsoftwarefoundation.python.3.12_qbz5n2kfra8p0\\localcache\\local-packages\\python312\\site-packages (1.7.0)\n",
      "Requirement already satisfied: joblib in c:\\users\\danie\\appdata\\local\\packages\\pythonsoftwarefoundation.python.3.12_qbz5n2kfra8p0\\localcache\\local-packages\\python312\\site-packages (1.5.1)\n",
      "Requirement already satisfied: numpy>=1.26.0 in c:\\users\\danie\\appdata\\local\\packages\\pythonsoftwarefoundation.python.3.12_qbz5n2kfra8p0\\localcache\\local-packages\\python312\\site-packages (from pandas) (2.1.3)\n",
      "Requirement already satisfied: python-dateutil>=2.8.2 in c:\\users\\danie\\appdata\\local\\packages\\pythonsoftwarefoundation.python.3.12_qbz5n2kfra8p0\\localcache\\local-packages\\python312\\site-packages (from pandas) (2.9.0.post0)\n",
      "Requirement already satisfied: pytz>=2020.1 in c:\\users\\danie\\appdata\\local\\packages\\pythonsoftwarefoundation.python.3.12_qbz5n2kfra8p0\\localcache\\local-packages\\python312\\site-packages (from pandas) (2025.2)\n",
      "Requirement already satisfied: tzdata>=2022.7 in c:\\users\\danie\\appdata\\local\\packages\\pythonsoftwarefoundation.python.3.12_qbz5n2kfra8p0\\localcache\\local-packages\\python312\\site-packages (from pandas) (2025.2)\n",
      "Requirement already satisfied: scipy>=1.8.0 in c:\\users\\danie\\appdata\\local\\packages\\pythonsoftwarefoundation.python.3.12_qbz5n2kfra8p0\\localcache\\local-packages\\python312\\site-packages (from scikit-learn) (1.15.3)\n",
      "Requirement already satisfied: threadpoolctl>=3.1.0 in c:\\users\\danie\\appdata\\local\\packages\\pythonsoftwarefoundation.python.3.12_qbz5n2kfra8p0\\localcache\\local-packages\\python312\\site-packages (from scikit-learn) (3.6.0)\n",
      "Requirement already satisfied: six>=1.5 in c:\\users\\danie\\appdata\\local\\packages\\pythonsoftwarefoundation.python.3.12_qbz5n2kfra8p0\\localcache\\local-packages\\python312\\site-packages (from python-dateutil>=2.8.2->pandas) (1.17.0)\n"
     ]
    },
    {
     "name": "stderr",
     "output_type": "stream",
     "text": [
      "\n",
      "[notice] A new release of pip is available: 25.0.1 -> 25.1.1\n",
      "[notice] To update, run: C:\\Users\\danie\\AppData\\Local\\Microsoft\\WindowsApps\\PythonSoftwareFoundation.Python.3.12_qbz5n2kfra8p0\\python.exe -m pip install --upgrade pip\n"
     ]
    }
   ],
   "source": [
    "!python3.12 -m pip install pandas scikit-learn joblib\n"
   ]
  },
  {
   "cell_type": "code",
   "execution_count": 10,
   "id": "798b295d",
   "metadata": {},
   "outputs": [],
   "source": [
    "import pandas as pd\n",
    "from sklearn.neighbors import KNeighborsClassifier\n",
    "import joblib\n"
   ]
  },
  {
   "cell_type": "code",
   "execution_count": 12,
   "id": "6acd6750",
   "metadata": {},
   "outputs": [
    {
     "name": "stdout",
     "output_type": "stream",
     "text": [
      "Treinado Aluguel: 30 imóveis → modelo_knn_aluguel.pkl\n",
      "Treinado Venda: 30 imóveis → modelo_knn_venda.pkl\n"
     ]
    }
   ],
   "source": [
    "import pandas as pd\n",
    "from sklearn.neighbors import KNeighborsClassifier\n",
    "import joblib\n",
    "\n",
    "# Carrega o CSV com imóveis\n",
    "df = pd.read_csv(\"imoveis.csv\")\n",
    "\n",
    "# Ajusta tipos\n",
    "df['aceita_pets'] = df['aceita_pets'].map({'Sim':1, 'Não':0, 'on':1}).fillna(0).astype(int)\n",
    "df['valor_aluguel'] = pd.to_numeric(df['valor_aluguel'], errors='coerce').fillna(0)\n",
    "df['valor_compra'] = pd.to_numeric(df['valor_compra'], errors='coerce').fillna(0)\n",
    "df['quartos']      = pd.to_numeric(df['quartos'], errors='coerce').fillna(0).astype(int)\n",
    "df['vagas']        = pd.to_numeric(df['vagas'], errors='coerce').fillna(0).astype(int)\n",
    "df['area']         = pd.to_numeric(df['area'], errors='coerce').fillna(0)\n",
    "\n",
    "def treinar_modelo(tipo_imovel):\n",
    "    df_tipo = df[df['tipo'].str.lower() == tipo_imovel.lower()].copy()\n",
    "    if df_tipo.empty:\n",
    "        print(f\"Nenhum dado para tipo: {tipo_imovel}\")\n",
    "        return\n",
    "\n",
    "    X = df_tipo[['quartos','vagas','area','aceita_pets',\n",
    "                 ('valor_aluguel' if tipo_imovel.lower()=='aluguel' else 'valor_compra')]]\n",
    "    y = df_tipo[['titulo','bairro']].apply(lambda row: f\"{row['titulo']}|{row['bairro']}\", axis=1)\n",
    "\n",
    "    modelo = KNeighborsClassifier(n_neighbors=3)\n",
    "    modelo.fit(X, y)\n",
    "\n",
    "    fn = f\"modelo_knn_{tipo_imovel.lower()}.pkl\"\n",
    "    joblib.dump(modelo, fn)\n",
    "    print(f\"Treinado {tipo_imovel}: {len(df_tipo)} imóveis → {fn}\")\n",
    "\n",
    "# Treina os dois modelos\n",
    "treinar_modelo(\"Aluguel\")\n",
    "treinar_modelo(\"Venda\")\n"
   ]
  }
 ],
 "metadata": {
  "kernelspec": {
   "display_name": "base",
   "language": "python",
   "name": "python3"
  },
  "language_info": {
   "codemirror_mode": {
    "name": "ipython",
    "version": 3
   },
   "file_extension": ".py",
   "mimetype": "text/x-python",
   "name": "python",
   "nbconvert_exporter": "python",
   "pygments_lexer": "ipython3",
   "version": "3.11.4"
  }
 },
 "nbformat": 4,
 "nbformat_minor": 5
}
